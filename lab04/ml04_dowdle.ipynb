{
 "cells": [
  {
   "cell_type": "markdown",
   "metadata": {},
   "source": [
    "# Dowdle's Titanic Fare Prediction\n",
    "**Author:** Brittany Dowdle   \n",
    "**Date:** April 3, 2025   \n",
    "**Objective:** Use the data you inspected, explored, and cleaned previously. Select a numeric target and build and evaluate different models for predicting a continuous variable using regression.\n",
    "\n",
    "### Introduction\n",
    "This project uses the Titanic dataset to predict fare - the amount of money paid for the journey - based on features such as age, family size, and embark_town. I will train a linear regression model, evaluate performance using key metrics, and create visualizations to interpret the results.   \n",
    "There will be 4 different cases tested: case 1 - age, case 2 - family_size, case 3 - age and family_size, and case 4 - embark_town.   \n",
    "And there will be comparisons to alternative models: ridge regression, elastic net, and polynomial regression.\n",
    "\n",
    "****\n",
    "\n",
    "## Imports\n",
    "In the code cell below, import the necessary Python libraries for this notebook. All imports should be at the top of the notebook."
   ]
  },
  {
   "cell_type": "code",
   "execution_count": 2,
   "metadata": {},
   "outputs": [],
   "source": [
    "# Import pandas for data manipulation and analysis (we might want to do more with it)\n",
    "import pandas as pd\n",
    "\n",
    "# Import pandas for data manipulation and analysis  (we might want to do more with it)\n",
    "import numpy as np\n",
    "\n",
    "from pandas.plotting import scatter_matrix\n",
    "\n",
    "# Import matplotlib for creating static visualizations\n",
    "import matplotlib.pyplot as plt\n",
    "import matplotlib.cm as cm\n",
    "\n",
    "# Import seaborn for statistical data visualization (built on matplotlib)\n",
    "import seaborn as sns\n",
    "\n",
    "# Import train_test_split for splitting data into training and test sets\n",
    "from sklearn.model_selection import train_test_split\n",
    "\n",
    "# Imports for building a regression models\n",
    "from sklearn.linear_model import LinearRegression, Ridge, ElasticNet\n",
    "from sklearn.preprocessing import PolynomialFeatures\n",
    "\n",
    "# Import performance metrics for model evaluation\n",
    "from sklearn.metrics import root_mean_squared_error, mean_absolute_error, r2_score"
   ]
  },
  {
   "cell_type": "markdown",
   "metadata": {},
   "source": [
    "****\n",
    "\n",
    "## Section 1. Import and Inspect the Data\n",
    "Load the Titanic dataset and confirm it’s structured correctly.\n",
    "\n",
    "*Important: This code requires importing seaborn as sns and pandas. Our variable titanic holds a pandas DataFrame object. Know what imports are required for each bit of code.*"
   ]
  },
  {
   "cell_type": "code",
   "execution_count": 3,
   "metadata": {},
   "outputs": [
    {
     "data": {
      "text/html": [
       "<div>\n",
       "<style scoped>\n",
       "    .dataframe tbody tr th:only-of-type {\n",
       "        vertical-align: middle;\n",
       "    }\n",
       "\n",
       "    .dataframe tbody tr th {\n",
       "        vertical-align: top;\n",
       "    }\n",
       "\n",
       "    .dataframe thead th {\n",
       "        text-align: right;\n",
       "    }\n",
       "</style>\n",
       "<table border=\"1\" class=\"dataframe\">\n",
       "  <thead>\n",
       "    <tr style=\"text-align: right;\">\n",
       "      <th></th>\n",
       "      <th>survived</th>\n",
       "      <th>pclass</th>\n",
       "      <th>sex</th>\n",
       "      <th>age</th>\n",
       "      <th>sibsp</th>\n",
       "      <th>parch</th>\n",
       "      <th>fare</th>\n",
       "      <th>embarked</th>\n",
       "      <th>class</th>\n",
       "      <th>who</th>\n",
       "      <th>adult_male</th>\n",
       "      <th>deck</th>\n",
       "      <th>embark_town</th>\n",
       "      <th>alive</th>\n",
       "      <th>alone</th>\n",
       "    </tr>\n",
       "  </thead>\n",
       "  <tbody>\n",
       "    <tr>\n",
       "      <th>0</th>\n",
       "      <td>0</td>\n",
       "      <td>3</td>\n",
       "      <td>male</td>\n",
       "      <td>22.0</td>\n",
       "      <td>1</td>\n",
       "      <td>0</td>\n",
       "      <td>7.2500</td>\n",
       "      <td>S</td>\n",
       "      <td>Third</td>\n",
       "      <td>man</td>\n",
       "      <td>True</td>\n",
       "      <td>NaN</td>\n",
       "      <td>Southampton</td>\n",
       "      <td>no</td>\n",
       "      <td>False</td>\n",
       "    </tr>\n",
       "    <tr>\n",
       "      <th>1</th>\n",
       "      <td>1</td>\n",
       "      <td>1</td>\n",
       "      <td>female</td>\n",
       "      <td>38.0</td>\n",
       "      <td>1</td>\n",
       "      <td>0</td>\n",
       "      <td>71.2833</td>\n",
       "      <td>C</td>\n",
       "      <td>First</td>\n",
       "      <td>woman</td>\n",
       "      <td>False</td>\n",
       "      <td>C</td>\n",
       "      <td>Cherbourg</td>\n",
       "      <td>yes</td>\n",
       "      <td>False</td>\n",
       "    </tr>\n",
       "    <tr>\n",
       "      <th>2</th>\n",
       "      <td>1</td>\n",
       "      <td>3</td>\n",
       "      <td>female</td>\n",
       "      <td>26.0</td>\n",
       "      <td>0</td>\n",
       "      <td>0</td>\n",
       "      <td>7.9250</td>\n",
       "      <td>S</td>\n",
       "      <td>Third</td>\n",
       "      <td>woman</td>\n",
       "      <td>False</td>\n",
       "      <td>NaN</td>\n",
       "      <td>Southampton</td>\n",
       "      <td>yes</td>\n",
       "      <td>True</td>\n",
       "    </tr>\n",
       "    <tr>\n",
       "      <th>3</th>\n",
       "      <td>1</td>\n",
       "      <td>1</td>\n",
       "      <td>female</td>\n",
       "      <td>35.0</td>\n",
       "      <td>1</td>\n",
       "      <td>0</td>\n",
       "      <td>53.1000</td>\n",
       "      <td>S</td>\n",
       "      <td>First</td>\n",
       "      <td>woman</td>\n",
       "      <td>False</td>\n",
       "      <td>C</td>\n",
       "      <td>Southampton</td>\n",
       "      <td>yes</td>\n",
       "      <td>False</td>\n",
       "    </tr>\n",
       "    <tr>\n",
       "      <th>4</th>\n",
       "      <td>0</td>\n",
       "      <td>3</td>\n",
       "      <td>male</td>\n",
       "      <td>35.0</td>\n",
       "      <td>0</td>\n",
       "      <td>0</td>\n",
       "      <td>8.0500</td>\n",
       "      <td>S</td>\n",
       "      <td>Third</td>\n",
       "      <td>man</td>\n",
       "      <td>True</td>\n",
       "      <td>NaN</td>\n",
       "      <td>Southampton</td>\n",
       "      <td>no</td>\n",
       "      <td>True</td>\n",
       "    </tr>\n",
       "  </tbody>\n",
       "</table>\n",
       "</div>"
      ],
      "text/plain": [
       "   survived  pclass     sex   age  sibsp  parch     fare embarked  class  \\\n",
       "0         0       3    male  22.0      1      0   7.2500        S  Third   \n",
       "1         1       1  female  38.0      1      0  71.2833        C  First   \n",
       "2         1       3  female  26.0      0      0   7.9250        S  Third   \n",
       "3         1       1  female  35.0      1      0  53.1000        S  First   \n",
       "4         0       3    male  35.0      0      0   8.0500        S  Third   \n",
       "\n",
       "     who  adult_male deck  embark_town alive  alone  \n",
       "0    man        True  NaN  Southampton    no  False  \n",
       "1  woman       False    C    Cherbourg   yes  False  \n",
       "2  woman       False  NaN  Southampton   yes   True  \n",
       "3  woman       False    C  Southampton   yes  False  \n",
       "4    man        True  NaN  Southampton    no   True  "
      ]
     },
     "execution_count": 3,
     "metadata": {},
     "output_type": "execute_result"
    }
   ],
   "source": [
    "# Load the data\n",
    "titanic = sns.load_dataset('titanic')\n",
    "\n",
    "# Confirm the data\n",
    "titanic.head()"
   ]
  },
  {
   "cell_type": "markdown",
   "metadata": {},
   "source": [
    "****\n",
    "\n",
    "## Section 2. Data Exploration and Preparation\n",
    "Prepare the Titanic data for regression modeling.\n",
    "\n",
    "- Impute missing values for age using median.\n",
    "- Drop rows with missing fare (or impute if preferred).\n",
    "- Create numeric variables (e.g., family_size from sibsp + parch + 1).\n",
    "- Optional - convert categorical features (e.g. sex, embarked) if you think they might help your prediction model. (We do not know relationships until we evaluate things.)"
   ]
  },
  {
   "cell_type": "code",
   "execution_count": 4,
   "metadata": {},
   "outputs": [
    {
     "name": "stdout",
     "output_type": "stream",
     "text": [
      "Missing values in fare: 0\n",
      "Missing values in embark_town: 2 \n",
      "\n",
      "['Southampton' 'Cherbourg' 'Queenstown' nan]\n"
     ]
    }
   ],
   "source": [
    "# Check missing values in fare\n",
    "missing_count = titanic['fare'].isnull().sum()\n",
    "print(f\"Missing values in fare: {missing_count}\")\n",
    "\n",
    "# Check missing values in embark_town\n",
    "missing_count_1 = titanic['embark_town'].isnull().sum()\n",
    "print(f\"Missing values in embark_town: {missing_count_1}\", \"\\n\")\n",
    "\n",
    "# Check values in embark_town\n",
    "print(titanic['embark_town'].unique())"
   ]
  },
  {
   "cell_type": "code",
   "execution_count": 5,
   "metadata": {},
   "outputs": [
    {
     "name": "stdout",
     "output_type": "stream",
     "text": [
      "embark_town\n",
      "0    644\n",
      "1    168\n",
      "2     77\n",
      "Name: count, dtype: int64\n"
     ]
    }
   ],
   "source": [
    "# Impute median for missing age values\n",
    "titanic.fillna({'age': titanic['age'].median()}, inplace=True)\n",
    "\n",
    "# Create numeric variables for family_size\n",
    "titanic['family_size'] = titanic['sibsp'] + titanic['parch'] + 1\n",
    "\n",
    "# Drop missing values in embark_town\n",
    "titanic.dropna(subset=['embark_town'], axis=0, inplace=True)\n",
    "\n",
    "# Convert embark_town to numeric variables\n",
    "titanic['embark_town'] = titanic['embark_town'].map({'Southampton': 0, 'Cherbourg': 1, 'Queenstown': 2})\n",
    "\n",
    "# Confirm numeric variables\n",
    "print(titanic['embark_town'].value_counts())"
   ]
  },
  {
   "cell_type": "markdown",
   "metadata": {},
   "source": [
    "****\n",
    "\n",
    "## Section 3. Feature Selection and Justification\n",
    "Define multiple combinations of features to use as inputs to predict fare. Use unique names (X1, y1, X2, y2, etc.) so results are visible and can be compared at the same time. \n",
    "\n",
    "*Remember the inputs, usually X, are a 2D array. The target is a 1D array.*"
   ]
  },
  {
   "cell_type": "code",
   "execution_count": 6,
   "metadata": {},
   "outputs": [
    {
     "name": "stdout",
     "output_type": "stream",
     "text": [
      "Case 1 columns: ['age']\n",
      "Case 2 columns: ['family_size']\n",
      "Case 3 columns: ['age', 'family_size']\n",
      "Case 4 columns: ['embark_town']\n"
     ]
    }
   ],
   "source": [
    "# Case 1. age\n",
    "X1 = titanic[['age']]\n",
    "y1 = titanic['fare']\n",
    "print(\"Case 1 columns:\", X1.columns.tolist())\n",
    "\n",
    "# Case 2. family_size\n",
    "X2 = titanic[['family_size']]\n",
    "y2 = titanic['fare']\n",
    "print(\"Case 2 columns:\", X2.columns.tolist())\n",
    "\n",
    "# Case 3. age, family_size\n",
    "X3 = titanic[['age', 'family_size']]\n",
    "y3 = titanic['fare']\n",
    "print(\"Case 3 columns:\", X3.columns.tolist())\n",
    "\n",
    "# Case 4. embark_town\n",
    "X4 = titanic[['embark_town']]\n",
    "y4 = titanic['fare']\n",
    "print(\"Case 4 columns:\", X4.columns.tolist())"
   ]
  },
  {
   "cell_type": "markdown",
   "metadata": {},
   "source": [
    "### Reflection Questions\n",
    "\n",
    "1) Why might these features affect a passenger’s fare: **Age - children might have had discounted fair or older passengers might have booked more expensive accomodations. Family size - a large family might have had discounted group pricing or booked less expensive accomodations to fit budget. Age & family size - using both can capture socio-economic factors that influence how much someone is willing or able to pay. Embark Town - the location a passenger boards from might have variation in tickets due to economic conditions or class distributions.**   \n",
    "2) List all available features: **Survived, pclass, sex, age, sibsp, parch, fare, embarked, class, who, adult_male, deck, embark_town, alive, alone.**   \n",
    "3) Which other features could improve predictions and why: **Pclass - this is a direct indicator of travel class, which is a strong predictor of fare since higher classes typically cost more. Sex - a previous scatterplot in lab02 showed a higher number of female passengers in a higher fare category.**   \n",
    "4) How many variables are in your Case 4: **One variable.**   \n",
    "5) Which variable(s) did you choose for Case 4 and why do you feel those could make good inputs: **embark_town - the town may reflect regional pricing strategies or differences in the passenger demographics boarding from various ports. It might identify geographic factors that are potentially a valuable predictor for understanding fare variations.**\n",
    "\n",
    "****\n",
    "\n",
    "## Section 4. Train a Regression Model (Linear Regression)\n",
    " \n",
    "\n",
    "### 4.1 Split the Data"
   ]
  },
  {
   "cell_type": "code",
   "execution_count": 7,
   "metadata": {},
   "outputs": [
    {
     "name": "stdout",
     "output_type": "stream",
     "text": [
      "Train size: 711\n",
      "Test size: 178\n"
     ]
    }
   ],
   "source": [
    "# Split data into a training set and a test set\n",
    "X1_train, X1_test, y1_train, y1_test = train_test_split(X1, y1, test_size=0.2, random_state=44)\n",
    "\n",
    "X2_train, X2_test, y2_train, y2_test = train_test_split(X2, y2, test_size=0.2, random_state=44)\n",
    "\n",
    "X3_train, X3_test, y3_train, y3_test = train_test_split(X3, y3, test_size=0.2, random_state=44)\n",
    "\n",
    "X4_train, X4_test, y4_train, y4_test = train_test_split(X4, y4, test_size=0.2, random_state=44)\n",
    "\n",
    "# Show set sizes - should be the same for all 4\n",
    "print('Train size:', len(X1_train))\n",
    "print('Test size:', len(X1_test))"
   ]
  },
  {
   "cell_type": "markdown",
   "metadata": {},
   "source": [
    "### 4.2 Train and Evaluate Linear Regression Models (all 4 cases)\n",
    "We'll use a more concise approach - create each model and immediately call the fit() method. "
   ]
  },
  {
   "cell_type": "code",
   "execution_count": 8,
   "metadata": {},
   "outputs": [],
   "source": [
    "# Create the models\n",
    "lr_model1 = LinearRegression().fit(X1_train, y1_train)\n",
    "lr_model2 = LinearRegression().fit(X2_train, y2_train)\n",
    "lr_model3 = LinearRegression().fit(X3_train, y3_train)\n",
    "lr_model4 = LinearRegression().fit(X4_train, y4_train)\n",
    "\n",
    "# Train each model\n",
    "y_pred_train1 = lr_model1.predict(X1_train)\n",
    "y_pred_test1 = lr_model1.predict(X1_test)\n",
    "\n",
    "y_pred_train2 = lr_model2.predict(X2_train)\n",
    "y_pred_test2 = lr_model2.predict(X2_test)\n",
    "\n",
    "y_pred_train3 = lr_model3.predict(X3_train)\n",
    "y_pred_test3 = lr_model3.predict(X3_test)\n",
    "\n",
    "y_pred_train4 = lr_model4.predict(X4_train)\n",
    "y_pred_test4 = lr_model4.predict(X4_test)"
   ]
  },
  {
   "cell_type": "markdown",
   "metadata": {},
   "source": [
    "### 4.3 Report Performance"
   ]
  },
  {
   "cell_type": "code",
   "execution_count": 9,
   "metadata": {},
   "outputs": [
    {
     "name": "stdout",
     "output_type": "stream",
     "text": [
      "Case 1: Training R²: 0.009576337621798325\n",
      "Case 1: Test R²: 0.002941289729790575\n",
      "Case 1: Test RMSE: 42.01273104130315\n",
      "Case 1: Test MAE: 26.443088816475168\n"
     ]
    }
   ],
   "source": [
    "# Case 1 - age\n",
    "print(\"Case 1: Training R²:\", r2_score(y1_train, y_pred_train1))\n",
    "print(\"Case 1: Test R²:\", r2_score(y1_test, y_pred_test1))\n",
    "print(\"Case 1: Test RMSE:\", root_mean_squared_error(y1_test, y_pred_test1))\n",
    "print(\"Case 1: Test MAE:\", mean_absolute_error(y1_test, y_pred_test1))"
   ]
  },
  {
   "cell_type": "code",
   "execution_count": 10,
   "metadata": {},
   "outputs": [
    {
     "name": "stdout",
     "output_type": "stream",
     "text": [
      "Case 2: Training R²: 0.05077197364966568\n",
      "Case 2: Test R²: 0.029087338420513142\n",
      "Case 2: Test RMSE: 41.458217941500294\n",
      "Case 2: Test MAE: 25.903384409771792\n"
     ]
    }
   ],
   "source": [
    "# Case 2 - family_size\n",
    "print(\"Case 2: Training R²:\", r2_score(y2_train, y_pred_train2))\n",
    "print(\"Case 2: Test R²:\", r2_score(y2_test, y_pred_test2))\n",
    "print(\"Case 2: Test RMSE:\", root_mean_squared_error(y2_test, y_pred_test2))\n",
    "print(\"Case 2: Test MAE:\", mean_absolute_error(y2_test, y_pred_test2))"
   ]
  },
  {
   "cell_type": "code",
   "execution_count": 11,
   "metadata": {},
   "outputs": [
    {
     "name": "stdout",
     "output_type": "stream",
     "text": [
      "Case 3: Training R²: 0.07634313395610726\n",
      "Case 3: Test R²: 0.03594795449810373\n",
      "Case 3: Test RMSE: 41.31148324260097\n",
      "Case 3: Test MAE: 24.409132140907147\n"
     ]
    }
   ],
   "source": [
    "# Case 3. age, family_size\n",
    "print(\"Case 3: Training R²:\", r2_score(y3_train, y_pred_train3))\n",
    "print(\"Case 3: Test R²:\", r2_score(y3_test, y_pred_test3))\n",
    "print(\"Case 3: Test RMSE:\", root_mean_squared_error(y3_test, y_pred_test3))\n",
    "print(\"Case 3: Test MAE:\", mean_absolute_error(y3_test, y_pred_test3))"
   ]
  },
  {
   "cell_type": "code",
   "execution_count": 12,
   "metadata": {},
   "outputs": [
    {
     "name": "stdout",
     "output_type": "stream",
     "text": [
      "Case 4: Training R²: 0.0043824615703143\n",
      "Case 4: Test R²: 0.0008776107932371158\n",
      "Case 4: Test RMSE: 42.056186843348975\n",
      "Case 4: Test MAE: 27.146512445553572\n"
     ]
    }
   ],
   "source": [
    "# Case 4. embark_town\n",
    "print(\"Case 4: Training R²:\", r2_score(y4_train, y_pred_train4))\n",
    "print(\"Case 4: Test R²:\", r2_score(y4_test, y_pred_test4))\n",
    "print(\"Case 4: Test RMSE:\", root_mean_squared_error(y4_test, y_pred_test4))\n",
    "print(\"Case 4: Test MAE:\", mean_absolute_error(y4_test, y_pred_test4))"
   ]
  },
  {
   "cell_type": "markdown",
   "metadata": {},
   "source": [
    "### Reflection Questions\n",
    "\n",
    "Compare the train vs test results for each.\n",
    "| Case | Feature(s) Used | Train R² | Test R² | Test RMSE | Test MAE |\n",
    "|-------|-----------|---------------|----------|-----------|--------|\n",
    "| 1 | age | 0.0096 | 0.0029 | 42.01 | 26.44 |\n",
    "| 2 | family_size | 0.0508 | 0.0291 | 41.46 | 25.90 |\n",
    "| 3 | age, family_size | 0.0763 | 0.0359 | 41.31 | 24.41 |\n",
    "| 4 | embark_town | 0.0044 | 0.0009 | 42.06 | 27.15 |\n",
    "\n",
    "Did Case 1 overfit or underfit? Explain: **Underfitting - very low R² scores on both train (0.0096) and test (0.0029) suggests that the model is not capturing much of the relationship.**   \n",
    "Did Case 2 overfit or underfit? Explain: **Underfitting - still low R² scores, but they are slightly better than Case 1. This suggests family_size is a better predictor, but still weak.**   \n",
    "Did Case 3 overfit or underfit? Explain: **Underfitting - improvement in both train (0.0763) and test R² (0.0359) over Cases 1 and 2. Suggests that combining age and family_size helps a bit, but model is too simple or features lack strong predictive power.**   \n",
    "Did Case 4 overfit or underfit? Explain: **Underfitting - lowest R² values and highest test MAE. embark_town appears to be the worst predictor of fare out of the four cases.**   \n",
    "\n",
    "Adding Age   \n",
    "Did adding age improve the model: **Yes, R², RMSE, and MAE all improved.**\n",
    "Propose a possible explanation (consider how age might affect ticket price, and whether the data supports that): **As pointed out earlier a possible explanation is that children may pay discounted rates compared to full price for adults. Or older passengers may have chosen higher-class tickets.**   \n",
    "\n",
    "Worst   \n",
    "Which case performed the worst: **Case 4.**   \n",
    "How do you know: **Lowest R², highest MAE, and highest RMSE.**    \n",
    "Do you think adding more training data would improve it (and why/why not): **Not likely, the feature embark_town just doesn't correlate well with fare. Adding more data would just reinforce the same weak pattern.**   \n",
    "\n",
    "Best   \n",
    "Which case performed the best: **Case 3.**   \n",
    "How do you know: **Highest R² scores, lowest MAE, and lowest RMSE.**   \n",
    "Do you think adding more training data would improve it (and why/why not): **Adding more data might help uncover deeper patterns or reduce noise. It could be that it relates to fare in a non-linear or interacted way.**   \n",
    "\n",
    "****\n",
    "\n",
    "## Section 5. Compare Alternative Models\n",
    "Choose the best case model from the four cases. Use that model to continue to explore additional continuous prediction models.\n",
    "\n",
    "### 5.1 Ridge Regression (L2 penalty)\n",
    "- Penalty term: L2 = sum of squared weights.\n",
    "- Effect: Shrinks weights, helps reduce overfitting, keeps all features."
   ]
  },
  {
   "cell_type": "code",
   "execution_count": 13,
   "metadata": {},
   "outputs": [
    {
     "name": "stdout",
     "output_type": "stream",
     "text": [
      "Intercept: -2.6693611214357773\n",
      "Coefficients: [0.65114642 8.23344936]\n"
     ]
    }
   ],
   "source": [
    "# Create the model\n",
    "ridge_model = Ridge(alpha=1.0)\n",
    "# Train the model\n",
    "ridge_model.fit(X3_train, y3_train)\n",
    "y_pred_ridge = ridge_model.predict(X3_test)\n",
    "\n",
    "# Confirm the model\n",
    "print(\"Intercept:\", ridge_model.intercept_)\n",
    "print(\"Coefficients:\", ridge_model.coef_)"
   ]
  },
  {
   "cell_type": "markdown",
   "metadata": {},
   "source": [
    "### 5.2 Elastic Net (L1 + L2 combined)\n",
    "- Penalty term: α × (L1 + L2).\n",
    "- Effect: Shrinks weights and can drop some features — flexible and powerful."
   ]
  },
  {
   "cell_type": "code",
   "execution_count": 14,
   "metadata": {},
   "outputs": [
    {
     "name": "stdout",
     "output_type": "stream",
     "text": [
      "Intercept: -1.184526515605576\n",
      "Coefficients: [0.63350244 7.73088055]\n"
     ]
    }
   ],
   "source": [
    "# Create the model\n",
    "elastic_model = ElasticNet(alpha=0.3, l1_ratio=0.5)\n",
    "# Train the model\n",
    "elastic_model.fit(X3_train, y3_train)\n",
    "y_pred_elastic = elastic_model.predict(X3_test)\n",
    "\n",
    "# Confirm the model\n",
    "print(\"Intercept:\", elastic_model.intercept_)\n",
    "print(\"Coefficients:\", elastic_model.coef_)"
   ]
  },
  {
   "cell_type": "markdown",
   "metadata": {},
   "source": [
    "### 5.3 Polynomial Regression\n",
    "Polynomial regression adds interaction and nonlinear terms to the model.    \n",
    "*Be careful here - higher-degree polynomials can easily overfit.*"
   ]
  },
  {
   "cell_type": "code",
   "execution_count": 15,
   "metadata": {},
   "outputs": [
    {
     "name": "stdout",
     "output_type": "stream",
     "text": [
      "Intercept: -63.85671654767586\n",
      "Coefficients: [ 0.00000000e+00  3.25895562e+00  4.49732553e+01 -4.42765619e-02\n",
      " -8.11851337e-01 -5.72553591e+00  1.21487994e-04  1.13747991e-02\n",
      "  3.12119416e-02  2.38435323e-01]\n"
     ]
    }
   ],
   "source": [
    "# Set up the poly inputs\n",
    "poly = PolynomialFeatures(degree=3)\n",
    "X_train_poly = poly.fit_transform(X3_train)\n",
    "X_test_poly = poly.transform(X3_test)\n",
    "\n",
    "# Use the poly inputs in the LR model\n",
    "poly_model = LinearRegression()\n",
    "poly_model.fit(X_train_poly, y3_train)\n",
    "y_pred_poly = poly_model.predict(X_test_poly)\n",
    "\n",
    "# Confirm the model\n",
    "print(\"Intercept:\", poly_model.intercept_)\n",
    "print(\"Coefficients:\", poly_model.coef_)"
   ]
  },
  {
   "cell_type": "markdown",
   "metadata": {},
   "source": [
    "### 5.4 Visualize Polynomial Cubic Fit (for 1 input feature)\n",
    "Choose a case with just one input feature and plot it."
   ]
  },
  {
   "cell_type": "code",
   "execution_count": 22,
   "metadata": {},
   "outputs": [
    {
     "data": {
      "image/png": "[encoded data removed]",
      "text/plain": [
       "<Figure size 1000x600 with 1 Axes>"
      ]
     },
     "metadata": {},
     "output_type": "display_data"
    }
   ],
   "source": [
    "# Only 1 feature: Case 1 - age\n",
    "X_case1_train = X1_train.copy()\n",
    "X_case1_test = X1_test.copy()\n",
    "y_case1_train = y1_train.copy()\n",
    "y_case1_test = y1_test.copy()\n",
    "\n",
    "# Set up the poly inputs\n",
    "poly_case1 = PolynomialFeatures(degree=3)\n",
    "X_case1_train_poly = poly_case1.fit_transform(X_case1_train)\n",
    "X_case1_test_poly = poly_case1.transform(X_case1_test)\n",
    "\n",
    "# Use the poly inputs in the LR model\n",
    "poly_model_case1 = LinearRegression()\n",
    "poly_model_case1.fit(X_case1_train_poly, y_case1_train)\n",
    "y_pred_case1_poly = poly_model_case1.predict(X_case1_test_poly)\n",
    "y_pred_case1_train_poly = poly_model_case1.predict(X_case1_train_poly)\n",
    "\n",
    "# Create the plot\n",
    "plt.figure(figsize=(10, 6))\n",
    "plt.scatter(X_case1_test, y_case1_test, color='#0024ED', label='Actual')\n",
    "plt.scatter(X_case1_test, y_pred_case1_poly, color='#00DB92', label='Predicted (Poly)')\n",
    "# Create the legend\n",
    "plt.legend()\n",
    "# Create the title\n",
    "plt.title(\"Polynomial Regression (Deg 3): Age vs Fare\")\n",
    "# Show the plot\n",
    "plt.tight_layout\n",
    "plt.show()\n"
   ]
  },
  {
   "cell_type": "code",
   "execution_count": 26,
   "metadata": {},
   "outputs": [
    {
     "name": "stdout",
     "output_type": "stream",
     "text": [
      "Case 1 Polynomial(3) Training R²: 0.0217\n",
      "Case 1 Polynomial(3) Test R²: -0.0095\n",
      "Case 1 Polynomial(3) Test RMSE: 42.2746\n",
      "Case 1 Polynomial(3) Test MAE: 25.6043\n"
     ]
    }
   ],
   "source": [
    "# Create metrics to compare linear regression and polynomial fit\n",
    "# Calculate R² scores\n",
    "r2_train = r2_score(y_case1_train, y_pred_case1_train_poly)\n",
    "r2_test = r2_score(y_case1_test, y_pred_case1_poly)\n",
    "\n",
    "# Calculate RMSE (Root Mean Squared Error)\n",
    "rmse_test = root_mean_squared_error(y_case1_test, y_pred_case1_poly)\n",
    "\n",
    "# Calculate MAE (Mean Absolute Error)\n",
    "mae_test = mean_absolute_error(y_case1_test, y_pred_case1_poly)\n",
    "\n",
    "# Print results\n",
    "print(f\"Case 1 Polynomial(3) Training R²: {r2_train:.4f}\")\n",
    "print(f\"Case 1 Polynomial(3) Test R²: {r2_test:.4f}\")\n",
    "print(f\"Case 1 Polynomial(3) Test RMSE: {rmse_test:.4f}\")\n",
    "print(f\"Case 1 Polynomial(3) Test MAE: {mae_test:.4f}\")"
   ]
  },
  {
   "cell_type": "markdown",
   "metadata": {},
   "source": [
    "### Reflection Questions\n",
    "\n",
    "1) What patterns does the cubic model seem to capture: **There is a subtle pattern of a general upward trend in fare prices as age increases. The model seems to over-smooth the data and does not capture the sharp variations in certain age groups.**\n",
    "2) Where does it perform well or poorly: **It performs well in capturing the trend of fares increasing slightly with age. It does an okay job of following the lower fare data points. The model does not seem to capture extreme outliers well and struggles to account for variability.**\n",
    "3) Did the polynomial fit outperform linear regression: **The polynomial regression does not significantly improve predictive power. The slight training R² improvement implys overfitting, not better performance. Linear regression is likely a better model for this dataset.**\n",
    " \n",
    "    | Case | Model | Training R² | Test R²  | Test RMSE | Test MAE  |\n",
    "    |------|----------------------|------------|---------|----------|----------|\n",
    "    | 1 | Linear Regression | 0.0096 | 0.0029  | 42.0127  | 26.4431  |\n",
    "    | 1 | Polynomial (Deg 3) | 0.0188 | -0.0019 | 42.1155  | 25.6950  |\n",
    "\n",
    "1) Where (on the graph or among which kinds of data points) does it fit best: **It fits best at mid-range fare levels and it's low fare predictions seem reasonable. This is where fares are relatively stable.**\n",
    "\n",
    "### 5.5 Compare All Models\n",
    "Create a summary table or printout comparing all models:"
   ]
  },
  {
   "cell_type": "code",
   "execution_count": 28,
   "metadata": {},
   "outputs": [
    {
     "name": "stdout",
     "output_type": "stream",
     "text": [
      "Case 1 Model Comparisons: \n",
      "\n",
      "Linear R²: 0.036\n",
      "Linear RMSE: 41.31\n",
      "Linear MAE: 24.41\n",
      "\n",
      "Ridge R²: 0.036\n",
      "Ridge RMSE: 41.31\n",
      "Ridge MAE: 24.41\n",
      "\n",
      "ElasticNet R²: 0.038\n",
      "ElasticNet RMSE: 41.27\n",
      "ElasticNet MAE: 24.45\n",
      "\n",
      "Polynomial R²: 0.080\n",
      "Polynomial RMSE: 40.36\n",
      "Polynomial MAE: 23.44\n",
      "\n"
     ]
    }
   ],
   "source": [
    "def report(name, y_true, y_pred):\n",
    "    print(f\"{name} R²: {r2_score(y_true, y_pred):.3f}\")\n",
    "    print(f\"{name} RMSE: {root_mean_squared_error(y_true, y_pred):.2f}\")\n",
    "    print(f\"{name} MAE: {mean_absolute_error(y_true, y_pred):.2f}\\n\")\n",
    "\n",
    "print(\"Case 1 Model Comparisons:\", \"\\n\")\n",
    "report(\"Linear\", y3_test, y_pred_test3)\n",
    "report(\"Ridge\", y3_test, y_pred_ridge)\n",
    "report(\"ElasticNet\", y3_test, y_pred_elastic)\n",
    "report(\"Polynomial\", y3_test, y_pred_poly)"
   ]
  },
  {
   "cell_type": "markdown",
   "metadata": {},
   "source": [
    "### 5.5 Visualize Higher Order Polynomial (for the same 1 input case)\n",
    "Use the same single input case as visualized above, but use a higher degree polynomial (e.g. 4, 5, 6, 7, or 8). Plot the result."
   ]
  },
  {
   "cell_type": "code",
   "execution_count": 35,
   "metadata": {},
   "outputs": [
    {
     "data": {
      "image/png": "[encoded data removed]",
      "text/plain": [
       "<Figure size 1000x600 with 1 Axes>"
      ]
     },
     "metadata": {},
     "output_type": "display_data"
    }
   ],
   "source": [
    "# Set up the poly inputs\n",
    "poly8_case1 = PolynomialFeatures(degree=8)\n",
    "X_case1_train_poly8 = poly8_case1.fit_transform(X_case1_train)\n",
    "X_case1_test_poly8 = poly8_case1.transform(X_case1_test)\n",
    "\n",
    "# Use the poly inputs in the LR model\n",
    "poly8_model_case1 = LinearRegression()\n",
    "poly8_model_case1.fit(X_case1_train_poly8, y_case1_train)\n",
    "y_pred_case1_poly8 = poly8_model_case1.predict(X_case1_test_poly8)\n",
    "y_pred_case1_train_poly8 = poly8_model_case1.predict(X_case1_train_poly8)\n",
    "\n",
    "# Create the plot\n",
    "plt.figure(figsize=(10, 6))\n",
    "plt.scatter(X_case1_test, y_case1_test, color='#0024ED', label='Actual')\n",
    "plt.scatter(X_case1_test, y_pred_case1_poly8, color='#00DB92', label='Predicted (Poly)')\n",
    "# Create the legend\n",
    "plt.legend()\n",
    "# Create the title\n",
    "plt.title(\"Polynomial Regression (Deg 8): Age vs Fare\")\n",
    "# Show the plot\n",
    "plt.tight_layout\n",
    "plt.show()"
   ]
  },
  {
   "cell_type": "markdown",
   "metadata": {},
   "source": [
    "### Compare Degree 3 to Degree 8\n",
    "Based on the scatter plots, the degree 3 model seems to perform better by providing a smoother and more consistent approximation of the actual data. The degree 8 model has flexibility that appears to overfit the training data and produce predictions with higher variability and less generalization.\n",
    "\n"
   ]
  }
 ],
 "metadata": {
  "kernelspec": {
   "display_name": ".venv",
   "language": "python",
   "name": "python3"
  },
  "language_info": {
   "codemirror_mode": {
    "name": "ipython",
    "version": 3
   },
   "file_extension": ".py",
   "mimetype": "text/x-python",
   "name": "python",
   "nbconvert_exporter": "python",
   "pygments_lexer": "ipython3",
   "version": "3.12.9"
  }
 },
 "nbformat": 4,
 "nbformat_minor": 2
}
