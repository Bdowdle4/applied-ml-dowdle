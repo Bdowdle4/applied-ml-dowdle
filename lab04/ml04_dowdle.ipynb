{
 "cells": [
  {
   "cell_type": "markdown",
   "metadata": {},
   "source": [
    "# Dowdle's Titanic Fare Prediction\n",
    "**Author:** Brittany Dowdle   \n",
    "**Date:** April 3, 2025   \n",
    "**Objective:** Use the data you inspected, explored, and cleaned previously. Select a numeric target and build and evaluate different models for predicting a continuous variable using regression.\n",
    "\n",
    "### Introduction\n",
    "This project uses the Titanic dataset to predict fare - the amount of money paid for the journey - based on features such as age, family size, and embark_town. I will train a linear regression model, evaluate performance using key metrics, and create visualizations to interpret the results.   \n",
    "There will be 4 different cases tested: case 1 - age, case 2 - family_size, case 3 - age and family_size, and case 4 - embark_town.   \n",
    "And there will be comparisons to alternative models: ridge regression, elastic net, and polynomial regression.\n",
    "\n",
    "****\n",
    "\n",
    "## Imports\n",
    "In the code cell below, import the necessary Python libraries for this notebook. All imports should be at the top of the notebook."
   ]
  },
  {
   "cell_type": "code",
   "execution_count": 2,
   "metadata": {},
   "outputs": [],
   "source": [
    "# Import pandas for data manipulation and analysis (we might want to do more with it)\n",
    "import pandas as pd\n",
    "\n",
    "# Import pandas for data manipulation and analysis  (we might want to do more with it)\n",
    "import numpy as np\n",
    "\n",
    "from pandas.plotting import scatter_matrix\n",
    "\n",
    "# Import matplotlib for creating static visualizations\n",
    "import matplotlib.pyplot as plt\n",
    "import matplotlib.cm as cm\n",
    "\n",
    "# Import seaborn for statistical data visualization (built on matplotlib)\n",
    "import seaborn as sns\n",
    "\n",
    "# Import train_test_split for splitting data into training and test sets\n",
    "from sklearn.model_selection import train_test_split\n",
    "\n",
    "# Imports for building a regression models\n",
    "from sklearn.linear_model import LinearRegression, Ridge, ElasticNet\n",
    "from sklearn.preprocessing import PolynomialFeatures\n",
    "\n",
    "# Import performance metrics for model evaluation\n",
    "from sklearn.metrics import root_mean_squared_error, mean_absolute_error, r2_score"
   ]
  },
  {
   "cell_type": "markdown",
   "metadata": {},
   "source": [
    "****\n",
    "\n",
    "## Section 1. Import and Inspect the Data\n",
    "Load the Titanic dataset and confirm it’s structured correctly.\n",
    "\n",
    "*Important: This code requires importing seaborn as sns and pandas. Our variable titanic holds a pandas DataFrame object. Know what imports are required for each bit of code.*"
   ]
  }
 ],
 "metadata": {
  "kernelspec": {
   "display_name": ".venv",
   "language": "python",
   "name": "python3"
  },
  "language_info": {
   "codemirror_mode": {
    "name": "ipython",
    "version": 3
   },
   "file_extension": ".py",
   "mimetype": "text/x-python",
   "name": "python",
   "nbconvert_exporter": "python",
   "pygments_lexer": "ipython3",
   "version": "3.12.9"
  }
 },
 "nbformat": 4,
 "nbformat_minor": 2
}
