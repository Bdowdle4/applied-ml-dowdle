{
 "cells": [
  {
   "cell_type": "markdown",
   "id": "a023c09c",
   "metadata": {},
   "source": [
    "# Dowdle's Wine Quality Prediction\n",
    "Author: Brittany Dowdle\n",
    "Date: April 8, 2025\n",
    "Objective: Implement an ensemble model, combine multiple models to improve performance. Evaluate the model using performance metrics. Compare results and provide insights.\n",
    "\n",
    "Introduction\n",
    "This project uses the Wine Quality dataset to predict red wine qualties based on features such as acidities, sulfur dioxides, and sugars. I will train 2 models: . "
   ]
  }
 ],
 "metadata": {
  "language_info": {
   "name": "python"
  }
 },
 "nbformat": 4,
 "nbformat_minor": 5
}
