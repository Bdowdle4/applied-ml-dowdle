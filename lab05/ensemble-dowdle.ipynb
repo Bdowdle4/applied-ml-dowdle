{
 "cells": [
  {
   "cell_type": "markdown",
   "id": "a023c09c",
   "metadata": {},
   "source": [
    "# Dowdle's Wine Quality Prediction\n",
    "**Author:** Brittany Dowdle\n",
    "**Date:** April 8, 2025\n",
    "**Objective:** Implement an ensemble model, combine multiple models to improve performance. Evaluate the model using performance metrics. Compare results and provide insights.\n",
    "\n",
    "## Introduction\n",
    "This project uses the Wine Quality dataset to predict red wines based on their physicochemical properties. Some features include acidities, sulfur dioxides, and sugars. I will train 2 models: . We are using ensemble models because they usually outperform individual models by reducing overfitting and improving generalization.\n",
    "\n",
    "****\n",
    "\n",
    "## Imports\n",
    "In the code cell below, import the necessary Python libraries for this notebook. All imports should be at the top of the notebook."
   ]
  },
  {
   "cell_type": "code",
   "execution_count": 1,
   "id": "5b761f50",
   "metadata": {},
   "outputs": [],
   "source": [
    "import pandas as pd\n",
    "import numpy as np\n",
    "import matplotlib.pyplot as plt\n",
    "\n",
    "from sklearn.ensemble import RandomForestClassifier, AdaBoostClassifier, GradientBoostingClassifier, BaggingClassifier, VotingClassifier\n",
    "from sklearn.tree import DecisionTreeClassifier\n",
    "from sklearn.svm import SVC\n",
    "from sklearn.linear_model import LogisticRegression\n",
    "from sklearn.neighbors import KNeighborsClassifier\n",
    "from sklearn.neural_network import MLPClassifier\n",
    "\n",
    "from sklearn.preprocessing import LabelEncoder\n",
    "from sklearn.model_selection import train_test_split\n",
    "from sklearn.metrics import confusion_matrix, accuracy_score, precision_score, recall_score, f1_score"
   ]
  }
 ],
 "metadata": {
  "kernelspec": {
   "display_name": ".venv",
   "language": "python",
   "name": "python3"
  },
  "language_info": {
   "codemirror_mode": {
    "name": "ipython",
    "version": 3
   },
   "file_extension": ".py",
   "mimetype": "text/x-python",
   "name": "python",
   "nbconvert_exporter": "python",
   "pygments_lexer": "ipython3",
   "version": "3.12.9"
  }
 },
 "nbformat": 4,
 "nbformat_minor": 5
}
